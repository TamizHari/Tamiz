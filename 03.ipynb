{
 "cells": [
  {
   "cell_type": "code",
   "execution_count": 1,
   "metadata": {},
   "outputs": [
    {
     "name": "stdout",
     "output_type": "stream",
     "text": [
      "[24, 365, 26.44, 'guvi']\n"
     ]
    }
   ],
   "source": [
    "#LIST OPERATIONS\n",
    "\n",
    "a=[24,365,26.44,'guvi']\n",
    "print(a)"
   ]
  },
  {
   "cell_type": "code",
   "execution_count": 2,
   "metadata": {},
   "outputs": [
    {
     "name": "stdout",
     "output_type": "stream",
     "text": [
      "[24, 365, 26.44, 'guvi', 'Puma']\n",
      "[24, 365, 26.44, 'guvi', 'Puma', [24.8, 335, 'Raja']]\n"
     ]
    }
   ],
   "source": [
    "#APPEND - Add Somrthing in the last:\n",
    "a.append('Puma')\n",
    "print(a)\n",
    "\n",
    "a.append([24.8,335,'Raja'])\n",
    "print(a)"
   ]
  },
  {
   "cell_type": "code",
   "execution_count": 3,
   "metadata": {},
   "outputs": [
    {
     "name": "stdout",
     "output_type": "stream",
     "text": [
      "[24, 365, 26.44, 'guvi', 'Puma', [24.8, 335, 'Raja'], 'queen', 'king', 1997, 24.68]\n"
     ]
    }
   ],
   "source": [
    "#to add multiple elements in the list using for loop\n",
    "\n",
    "b=['queen','king',1997,24.68]\n",
    "for z in b:\n",
    "    a.append(z)\n",
    "print(a)\n"
   ]
  },
  {
   "cell_type": "code",
   "execution_count": 4,
   "metadata": {},
   "outputs": [
    {
     "name": "stdout",
     "output_type": "stream",
     "text": [
      "[55, 987, 26.48, 'Text', 'queen', 'king', 777]\n"
     ]
    }
   ],
   "source": [
    "#to add multiple elements in the list : #extend\n",
    "\n",
    "d=[55,987,26.48,'Text']\n",
    "d.extend(['queen','king',777])\n",
    "print(d)\n"
   ]
  },
  {
   "cell_type": "code",
   "execution_count": 5,
   "metadata": {},
   "outputs": [
    {
     "name": "stdout",
     "output_type": "stream",
     "text": [
      "[24, 365, 555, 26.44, 'guvi', 'Puma', [24.8, 335, 'Raja'], 'queen', 'king', 1997, 24.68]\n"
     ]
    }
   ],
   "source": [
    "#insert: inserting at a certain place using index function in the list :\n",
    "\n",
    "a.insert(2,555)\n",
    "print(a)"
   ]
  },
  {
   "cell_type": "code",
   "execution_count": 6,
   "metadata": {},
   "outputs": [
    {
     "name": "stdout",
     "output_type": "stream",
     "text": [
      "[24, 365, 'God', 26.44, 'guvi', 'Puma', [24.8, 335, 'Raja'], 'queen', 'king', 1997, 24.68]\n"
     ]
    }
   ],
   "source": [
    "#to replace a certain element in the list:\n",
    "a[2]='God'\n",
    "print(a)"
   ]
  },
  {
   "cell_type": "code",
   "execution_count": 5,
   "metadata": {},
   "outputs": [
    {
     "name": "stdout",
     "output_type": "stream",
     "text": [
      "[24, 365, 'God', 26.44, 'guvi', 'puma', [24.8, 335, '22']]\n"
     ]
    }
   ],
   "source": [
    "#to replace an element in the list, which is inside another list:\n",
    "a=[24,365,'God',26.44,\"guvi\",'puma',[24.8,335,'Raja']]\n",
    "a[6][2]='22'\n",
    "print(a)"
   ]
  },
  {
   "cell_type": "code",
   "execution_count": 7,
   "metadata": {},
   "outputs": [
    {
     "data": {
      "text/plain": [
       "2"
      ]
     },
     "execution_count": 7,
     "metadata": {},
     "output_type": "execute_result"
    }
   ],
   "source": [
    "#index : to find the index value \n",
    "\n",
    "c=[22,57,'God']\n",
    "c.index('God')"
   ]
  },
  {
   "cell_type": "code",
   "execution_count": 8,
   "metadata": {},
   "outputs": [
    {
     "name": "stdout",
     "output_type": "stream",
     "text": [
      "[22, 57, 'God', 25, 25, 25]\n"
     ]
    },
    {
     "data": {
      "text/plain": [
       "3"
      ]
     },
     "execution_count": 8,
     "metadata": {},
     "output_type": "execute_result"
    }
   ],
   "source": [
    "#Count : count how many times a same element is repeated in the list:\n",
    "\n",
    "c.extend([25,25,25])\n",
    "print(c)\n",
    "\n",
    "c.count(25)"
   ]
  },
  {
   "cell_type": "code",
   "execution_count": 9,
   "metadata": {},
   "outputs": [
    {
     "name": "stdout",
     "output_type": "stream",
     "text": [
      "[22, 57, 25, 25, 25]\n",
      "God\n"
     ]
    }
   ],
   "source": [
    "#POP : TO temperorily remove an element\n",
    "\n",
    "d=c.pop(2)\n",
    "print(c)\n",
    "print(d)\n"
   ]
  },
  {
   "cell_type": "code",
   "execution_count": 10,
   "metadata": {},
   "outputs": [
    {
     "name": "stdout",
     "output_type": "stream",
     "text": [
      "[22, 25, 25, 25]\n"
     ]
    }
   ],
   "source": [
    "#delete : del : to permanantly delete an element from the memory.(Not only the list)\n",
    "\n",
    "del c[1]\n",
    "print(c)"
   ]
  },
  {
   "cell_type": "code",
   "execution_count": 11,
   "metadata": {},
   "outputs": [
    {
     "name": "stdout",
     "output_type": "stream",
     "text": [
      "[998.956, 789, 556, 52.66, 27]\n"
     ]
    }
   ],
   "source": [
    "#Sort : To sort the list in the ascending order(variable.sort), use reverse=True to sort in descending order\n",
    "\n",
    "e=[556,789,52.66,27,998.956]\n",
    "e.sort(reverse=True)\n",
    "print(e)"
   ]
  },
  {
   "cell_type": "code",
   "execution_count": 12,
   "metadata": {},
   "outputs": [
    {
     "name": "stdout",
     "output_type": "stream",
     "text": [
      "998.956\n",
      "27\n",
      "2423.616\n"
     ]
    }
   ],
   "source": [
    "#only used in list or set, Dict contains numbers.\n",
    "#max = to find the maximum value\n",
    "#min - Minimum Value\n",
    "#sum - To add all the Values\n",
    "\n",
    "print(max(e))\n",
    "print(min(e))\n",
    "print(sum(e))"
   ]
  },
  {
   "cell_type": "code",
   "execution_count": null,
   "metadata": {},
   "outputs": [],
   "source": [
    "#Tuple \n",
    "\n",
    "#-Heterogeneous\n",
    "#-Immutable\n",
    "#-Ordered (by index)"
   ]
  },
  {
   "cell_type": "code",
   "execution_count": 13,
   "metadata": {},
   "outputs": [
    {
     "name": "stdout",
     "output_type": "stream",
     "text": [
      "53\n",
      "3.7\n",
      "King\n"
     ]
    }
   ],
   "source": [
    "x,y,z=(53,3.7,'King')\n",
    "print(x)\n",
    "print(y)\n",
    "print(z)"
   ]
  },
  {
   "cell_type": "code",
   "execution_count": null,
   "metadata": {},
   "outputs": [],
   "source": [
    "#Usage of Brackets :\n",
    "\n",
    "#[] - Operations of List, Particular Data\n",
    "#() - Functions / Methods\n",
    "#{} - Dictionary / Data "
   ]
  },
  {
   "cell_type": "code",
   "execution_count": null,
   "metadata": {},
   "outputs": [],
   "source": [
    "# STRINGS\n",
    "\n",
    "#Functions of Strings\n",
    "\n",
    "#variable.upper = Uppercase the String Completely\n",
    "#v.lower = Lowercase the complete string\n",
    "#v.Capitalize = Uppercase the 1st Letter of the String.\n",
    "#v.count = Counts the character in the string.\n",
    "#v.find = Finds the left most index value of a character in a string\n",
    "#v.rfind = Finds the right most index value of the character in a string\n",
    "#v.index = Finds the index value of a character in the string.\n",
    "#len(variable) = Finds the total characters in a string. Even counts the Space."
   ]
  },
  {
   "cell_type": "code",
   "execution_count": 14,
   "metadata": {},
   "outputs": [
    {
     "name": "stdout",
     "output_type": "stream",
     "text": [
      "HAPPY MORNING\n",
      "Happy morning\n",
      "happy morning\n",
      "1\n",
      "2\n",
      "11\n",
      "6\n",
      "13\n"
     ]
    }
   ],
   "source": [
    "#For Example :\n",
    "\n",
    "s=\"Happy Morning\"\n",
    "print(s.upper())\n",
    "print(s.capitalize())\n",
    "print(s.lower())\n",
    "print(s.count('a'))\n",
    "print(s.find('p'))\n",
    "print(s.rfind('n'))\n",
    "print(s.index('Mo'))\n",
    "print(len(s))\n"
   ]
  },
  {
   "cell_type": "code",
   "execution_count": null,
   "metadata": {},
   "outputs": [],
   "source": []
  }
 ],
 "metadata": {
  "kernelspec": {
   "display_name": "Python 3",
   "language": "python",
   "name": "python3"
  },
  "language_info": {
   "codemirror_mode": {
    "name": "ipython",
    "version": 3
   },
   "file_extension": ".py",
   "mimetype": "text/x-python",
   "name": "python",
   "nbconvert_exporter": "python",
   "pygments_lexer": "ipython3",
   "version": "3.12.2"
  }
 },
 "nbformat": 4,
 "nbformat_minor": 2
}
